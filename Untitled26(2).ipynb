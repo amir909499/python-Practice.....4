{
 "cells": [
  {
   "cell_type": "code",
   "execution_count": 1,
   "id": "efbcda59-8b1a-4dfe-b314-4936798227a8",
   "metadata": {},
   "outputs": [],
   "source": [
    "def countdowen(n):\n",
    "    while(n>0):\n",
    "        print(n)\n",
    "        n=n-1\n",
    "        print(\"stop\")\n",
    "        break"
   ]
  },
  {
   "cell_type": "code",
   "execution_count": 2,
   "id": "30570ff5-b0da-4213-84a9-ada76159ca47",
   "metadata": {},
   "outputs": [
    {
     "name": "stdout",
     "output_type": "stream",
     "text": [
      "20\n",
      "stop\n"
     ]
    }
   ],
   "source": [
    "countdowen(20)"
   ]
  },
  {
   "cell_type": "code",
   "execution_count": null,
   "id": "4c86b883-f149-4a51-9a66-d749af5d4848",
   "metadata": {},
   "outputs": [],
   "source": []
  }
 ],
 "metadata": {
  "kernelspec": {
   "display_name": "Python 3 (ipykernel)",
   "language": "python",
   "name": "python3"
  },
  "language_info": {
   "codemirror_mode": {
    "name": "ipython",
    "version": 3
   },
   "file_extension": ".py",
   "mimetype": "text/x-python",
   "name": "python",
   "nbconvert_exporter": "python",
   "pygments_lexer": "ipython3",
   "version": "3.8.1"
  }
 },
 "nbformat": 4,
 "nbformat_minor": 5
}
