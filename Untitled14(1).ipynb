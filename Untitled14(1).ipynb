{
 "cells": [
  {
   "cell_type": "code",
   "execution_count": 3,
   "id": "7ad3bdab-bc52-47fa-9e28-99284988548b",
   "metadata": {},
   "outputs": [],
   "source": [
    "def ami(n):\n",
    "    if n==0:\n",
    "        return 1\n",
    "         \n",
    "    else:\n",
    "        return n*a(n-1)"
   ]
  },
  {
   "cell_type": "code",
   "execution_count": 4,
   "id": "3be2daab-6a32-40f9-9ef2-df485dc165d8",
   "metadata": {},
   "outputs": [
    {
     "data": {
      "text/plain": [
       "120"
      ]
     },
     "execution_count": 4,
     "metadata": {},
     "output_type": "execute_result"
    }
   ],
   "source": [
    "a(5)"
   ]
  },
  {
   "cell_type": "code",
   "execution_count": null,
   "id": "bdfa753a-f67a-43e7-bd3f-cd0bd214b572",
   "metadata": {},
   "outputs": [],
   "source": []
  }
 ],
 "metadata": {
  "kernelspec": {
   "display_name": "Python 3 (ipykernel)",
   "language": "python",
   "name": "python3"
  },
  "language_info": {
   "codemirror_mode": {
    "name": "ipython",
    "version": 3
   },
   "file_extension": ".py",
   "mimetype": "text/x-python",
   "name": "python",
   "nbconvert_exporter": "python",
   "pygments_lexer": "ipython3",
   "version": "3.8.1"
  }
 },
 "nbformat": 4,
 "nbformat_minor": 5
}
