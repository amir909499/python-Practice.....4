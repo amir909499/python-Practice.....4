{
 "cells": [
  {
   "cell_type": "code",
   "execution_count": 2,
   "id": "aa6e122c-6e87-4762-8b1c-e7059afbc6b8",
   "metadata": {},
   "outputs": [],
   "source": [
    "def a(x,a):\n",
    "    c=x+a/x/2\n",
    "    return c"
   ]
  },
  {
   "cell_type": "code",
   "execution_count": 4,
   "id": "41b1febd-2a50-49b1-8799-7be98a444728",
   "metadata": {},
   "outputs": [
    {
     "data": {
      "text/plain": [
       "20.475"
      ]
     },
     "execution_count": 4,
     "metadata": {},
     "output_type": "execute_result"
    }
   ],
   "source": [
    "a(20,19)"
   ]
  },
  {
   "cell_type": "code",
   "execution_count": null,
   "id": "2bb89b3b-6a02-42e9-88a7-971b099d35e1",
   "metadata": {},
   "outputs": [],
   "source": []
  }
 ],
 "metadata": {
  "kernelspec": {
   "display_name": "Python 3 (ipykernel)",
   "language": "python",
   "name": "python3"
  },
  "language_info": {
   "codemirror_mode": {
    "name": "ipython",
    "version": 3
   },
   "file_extension": ".py",
   "mimetype": "text/x-python",
   "name": "python",
   "nbconvert_exporter": "python",
   "pygments_lexer": "ipython3",
   "version": "3.8.1"
  }
 },
 "nbformat": 4,
 "nbformat_minor": 5
}
