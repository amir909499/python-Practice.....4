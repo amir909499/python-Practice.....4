{
 "cells": [
  {
   "cell_type": "code",
   "execution_count": 6,
   "id": "2be4e6ad-6757-40e1-9bd0-be7afbea1bd6",
   "metadata": {},
   "outputs": [],
   "source": [
    "import math as am\n",
    "def a(x,y):\n",
    "    c=math.sqrt(x**2+y**2)\n",
    "    return c"
   ]
  },
  {
   "cell_type": "code",
   "execution_count": 7,
   "id": "00312ce3-fdbe-49ec-a9ad-1982bbdc8ca9",
   "metadata": {},
   "outputs": [
    {
     "data": {
      "text/plain": [
       "27.586228448267445"
      ]
     },
     "execution_count": 7,
     "metadata": {},
     "output_type": "execute_result"
    }
   ],
   "source": [
    "a(20,19)"
   ]
  },
  {
   "cell_type": "code",
   "execution_count": null,
   "id": "53388ff8-4e5f-46ef-9320-5c20a7b7fa98",
   "metadata": {},
   "outputs": [],
   "source": []
  }
 ],
 "metadata": {
  "kernelspec": {
   "display_name": "Python 3 (ipykernel)",
   "language": "python",
   "name": "python3"
  },
  "language_info": {
   "codemirror_mode": {
    "name": "ipython",
    "version": 3
   },
   "file_extension": ".py",
   "mimetype": "text/x-python",
   "name": "python",
   "nbconvert_exporter": "python",
   "pygments_lexer": "ipython3",
   "version": "3.8.1"
  }
 },
 "nbformat": 4,
 "nbformat_minor": 5
}
