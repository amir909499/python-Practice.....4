{
 "cells": [
  {
   "cell_type": "code",
   "execution_count": 1,
   "id": "6a042749-6863-48a4-9420-ffcba66ec9d4",
   "metadata": {},
   "outputs": [],
   "source": [
    "def a(n):\n",
    "    if n<0:\n",
    "        a=-n\n",
    "    else:\n",
    "        a=n\n",
    "    print(a)    "
   ]
  },
  {
   "cell_type": "code",
   "execution_count": 2,
   "id": "fd4eee69-c305-4b8f-82b7-5cfdba719488",
   "metadata": {},
   "outputs": [
    {
     "name": "stdout",
     "output_type": "stream",
     "text": [
      "20\n"
     ]
    }
   ],
   "source": [
    "a(-20)"
   ]
  },
  {
   "cell_type": "code",
   "execution_count": null,
   "id": "fbaf4c45-61d4-4419-97ae-480d5b8edf67",
   "metadata": {},
   "outputs": [],
   "source": []
  }
 ],
 "metadata": {
  "kernelspec": {
   "display_name": "Python 3 (ipykernel)",
   "language": "python",
   "name": "python3"
  },
  "language_info": {
   "codemirror_mode": {
    "name": "ipython",
    "version": 3
   },
   "file_extension": ".py",
   "mimetype": "text/x-python",
   "name": "python",
   "nbconvert_exporter": "python",
   "pygments_lexer": "ipython3",
   "version": "3.8.1"
  }
 },
 "nbformat": 4,
 "nbformat_minor": 5
}
