{
 "cells": [
  {
   "cell_type": "code",
   "execution_count": 1,
   "id": "6eecde2c-e3f4-40d2-8046-eac14d50c971",
   "metadata": {},
   "outputs": [],
   "source": [
    "import math \n",
    "def a(k,a,i):\n",
    "    c=-k+math.sqrt(k**2+a**2)+i\n",
    "    return c"
   ]
  },
  {
   "cell_type": "code",
   "execution_count": 3,
   "id": "19521234-0c2f-41ad-ab00-d07f25ec3e4c",
   "metadata": {},
   "outputs": [
    {
     "data": {
      "text/plain": [
       "25.586228448267445"
      ]
     },
     "execution_count": 3,
     "metadata": {},
     "output_type": "execute_result"
    }
   ],
   "source": [
    "a(20,19,18)"
   ]
  },
  {
   "cell_type": "code",
   "execution_count": null,
   "id": "b187e64b-c2e4-4b23-9086-724e4a0917ba",
   "metadata": {},
   "outputs": [],
   "source": []
  }
 ],
 "metadata": {
  "kernelspec": {
   "display_name": "Python 3 (ipykernel)",
   "language": "python",
   "name": "python3"
  },
  "language_info": {
   "codemirror_mode": {
    "name": "ipython",
    "version": 3
   },
   "file_extension": ".py",
   "mimetype": "text/x-python",
   "name": "python",
   "nbconvert_exporter": "python",
   "pygments_lexer": "ipython3",
   "version": "3.8.1"
  }
 },
 "nbformat": 4,
 "nbformat_minor": 5
}
